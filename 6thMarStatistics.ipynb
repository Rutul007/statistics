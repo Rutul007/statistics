{
 "cells": [
  {
   "cell_type": "markdown",
   "id": "095e8c35-c1a8-479d-a9a4-f05c9c3ec92c",
   "metadata": {},
   "source": [
    "### Q1. What is Statistics?"
   ]
  },
  {
   "cell_type": "markdown",
   "id": "835b702b-6c58-40c5-9f33-e1dac18cb288",
   "metadata": {},
   "source": [
    "#### Defination :- Statistics is the science of collecting, organizing and analyzing data.\n",
    "\n",
    "#### statistics helps in decision making process.\n",
    "#### Stastics is the area of an applied mathametical concerned with data collection, analysis, interpretation and presentation."
   ]
  },
  {
   "cell_type": "markdown",
   "id": "c8487af5-92cc-46aa-98d2-d91ec929e241",
   "metadata": {},
   "source": [
    "### Q2. Define the different types of statistics and give an example of when each type might be used."
   ]
  },
  {
   "cell_type": "raw",
   "id": "777acc5c-1ec4-43db-8688-512d7da8f955",
   "metadata": {},
   "source": [
    "There are two kinds of Statistics, which are descriptive Statistics and inferential Statistics. In descriptive Statistics, the Data or Collection Data are described in a summarized way, whereas in inferential Statistics, we make use of it in order to explain the descriptive kind. Both of them are used on a large scale. Also, there is another kind of Statistics where descriptive transitions into inferential Statistics.\n",
    "\n",
    "Descriptive Statistics:-\n",
    "\n",
    "\n",
    "Descreptive statistics uses the data to provide discreption of the population either through numerical calculation or graphes or table.\n",
    "Descriptive stastics is mainly used focoused upon the main characterstics of data. it provides graphical summary of the data.\n",
    "Example :- Maximum, Average, Minimum.\n",
    "There are two categories in this as following below.\n",
    "\n",
    "(1)Measure of central tendency –\n",
    "Measure of central tendency is also known as summary statistics that is used to represents the center point or a particular value of a data set or sample set.\n",
    "In statistics, there are three common measures of central tendency as shown below:\n",
    "    1. Mean\n",
    "    2. median\n",
    "    3. mode\n",
    "\n",
    "(2). Measure of Variability –\n",
    "Measure of Variability is also known as measure of dispersion and used to describe variability in a sample or population. In statistics, there are three common measures of variability as shown below:\n",
    "\n",
    "    1.  Range\n",
    "    2. variance\n",
    "    3. dispersons\n",
    "\n",
    "\n",
    "2. Inferential Statistics :\n",
    "Inferential Statistics makes inference and prediction about population based on a sample of data taken from population. It generalizes a large dataset and applies probabilities to draw a conclusion. It is simply used for explaining meaning of descriptive stats. It is simply used to analyze, interpret result, and draw conclusion. Inferential Statistics is mainly related to and associated with hypothesis testing whose main target is to reject null hypothesis.\n",
    "\n",
    "Hypothesis testing is a type of inferential procedure that takes help of sample data to evaluate and assess credibility of a hypothesis about a population. Inferential statistics are generally used to determine how strong relationship is within sample. But it is very difficult to obtain a population list and draw a random sample.\n",
    "\n",
    "Inferential statistics can be done with help of various steps as given below:\n",
    "\n",
    "       1. Obtain and start with a theory.\n",
    "        2. Generate a research hypothesis.\n",
    "        3.Operationalize or use variables\n",
    "        4.Identify or find out population to which we can apply study material.\n",
    "        5.Generate or form a null hypothesis for these population.\n",
    "        6.Collect and gather a sample of children from population and simply run study.\n",
    "        7.Then, perform all tests of statistical to clarify if obtained characteristics of sample are sufficiently different from what would be \n",
    "          expected \n",
    "        8.under null hypothesis so that we can be able to find and reject null hypothesis."
   ]
  },
  {
   "cell_type": "markdown",
   "id": "dc1a623c-fa83-45a1-a1a4-8e8f4a3ad7d0",
   "metadata": {},
   "source": [
    "### Q3. What are the different types of data and how do they differ from each other? Provide an example of each type of data."
   ]
  },
  {
   "cell_type": "raw",
   "id": "b50bddf9-5b69-4190-a48e-f807ab6b729b",
   "metadata": {},
   "source": [
    "Data:- Data refers to facts and stastics collected together for reference or analysis.(fact or piece of information)\n",
    "\n",
    "TYPES OF DATA :-----:-\n",
    "\n",
    "There are mainly two types of data \n",
    "1. Qualitative Data\n",
    "2. Quantitative Data\n",
    "\n",
    "1. QUALITATIVE DATA:-------\n",
    "    \n",
    "    -> Qualitative data deales with characterstics and descriptors that cant be easily measured but can be observed subjectively.\n",
    "    -> there are two types of qualitative data\n",
    "        1. Nominal Data:-\n",
    "            data with no inherit order or no ranking such kind of data is called nominal data.\n",
    "            example:- Gender(Male/Female)\n",
    "        \n",
    "        2. Ordinal Data :- \n",
    "            data with an orderd series, such shown in the table, such kind of data is called ordinal data.\n",
    "            \n",
    "\n",
    "\n",
    "2. QUANTITATIVE DATA:--------\n",
    "    \n",
    "    -> Quantitative data deals with numbers and things you can measure objectively.\n",
    "    -> there are two types\n",
    "        1. Discrete Data:-\n",
    "            Also known as catagorical data, it can hold finite number of possible values.\n",
    "            example: number of students in class.\n",
    "            \n",
    "        2. Continuous Data:-\n",
    "            Data that cabn hold infinite number of possible values.\n",
    "            example : Weight of person.\n",
    "            \n"
   ]
  },
  {
   "cell_type": "markdown",
   "id": "e0fa8b6a-4596-4252-b0e9-3692b3284344",
   "metadata": {},
   "source": [
    "### Q4. Categorise the following datasets with respect to quantitative and qualitative data types:"
   ]
  },
  {
   "cell_type": "raw",
   "id": "666f712b-1c9e-4230-a964-52fa130483c5",
   "metadata": {},
   "source": [
    "(i) Grading in exam: A+, A, B+, B, C+, C, D, E         (Qualitative Data)\n",
    "\n",
    "(ii) Colour of mangoes: yellow, green, orange, red     (Qualitative Data)\n",
    "\n",
    "\n",
    "(iii) Height data of a class: [178.9, 179, 179.5, 176, 177.2, 178.3, 175.8,...]    (Quantitative Data)\n",
    "\n",
    "(iv) Number of mangoes exported by a farm: [500, 600, 478, 672, ...]               (Quantitative Data)"
   ]
  },
  {
   "cell_type": "markdown",
   "id": "10d10f01-64da-4033-ae26-6ff3313c84bc",
   "metadata": {},
   "source": [
    "### Q5. Explain the concept of levels of measurement and give an example of a variable for each level."
   ]
  },
  {
   "cell_type": "raw",
   "id": "8f0b4147-792f-4fe9-8701-cbb3eb056950",
   "metadata": {},
   "source": [
    "Levels of measurement, also called scales of measurement, tell you how precisely variables are recorded. In scientific research, a variable is anything that can take on different values across your data set.\n",
    "\n",
    "There are 4 levels of measurement:\n",
    "\n",
    "    Nominal: the data can only be categorized\n",
    "    Ordinal: the data can be categorized and ranked\n",
    "    Interval: the data can be categorized, ranked, and evenly spaced\n",
    "    Ratio: the data can be categorized, ranked, evenly spaced, and has a natural zero.\n",
    "    \n",
    "\n",
    "1. Nominal Scale data:-\n",
    "    -> You can categorize your data by labelling them in mutually exclusive groups, but there is no order between the categories.\n",
    "    -> order does not matter\n",
    "    -> examples:-\n",
    "        City of birth\n",
    "        Gender\n",
    "        Ethnicity\n",
    "        Car brands\n",
    "        Marital status\n",
    "        \n",
    "2. Ordinal Scale data:-\n",
    "    -> You can categorize and rank your data in an order, but you cannot say anything about the intervals between the rankings.\n",
    "    -> order matters \n",
    "    -> Difference can not be measured.\n",
    "    -> examples \n",
    "        Top 5 winners\n",
    "        language abilities\n",
    "        satisfaction rating\n",
    "        income level\n",
    "\n",
    "3. Interval Scale Data:- \n",
    "    -> You can categorize, rank, and infer equal intervals between neighboring data points, but there is no true zero point.\n",
    "    -> Difference can be measured\n",
    "    -> Ratio can not be measured\n",
    "    -> No true '0' starting point\n",
    "    -> examples \n",
    "        test scores\n",
    "        temprature in Fahrenheit or Celsius\n",
    "        Personality inventories\n",
    "\n",
    "4. Ratio Scale data:-\n",
    "    -> You can categorize, rank, and infer equal intervals between neighboring data points, and there is a true zero point.\n",
    "    -> A true zero means there is an absence of the variable of interest. In ratio scales, zero does mean an absolute lack of the variable.\n",
    "    -> For example, in the Kelvin temperature scale, there are no negative degrees of temperature – zero means an absolute lack of thermal energy.\n",
    "    -> other examples\n",
    "        height\n",
    "        Age\n",
    "        Temperature in Kelvin"
   ]
  },
  {
   "cell_type": "markdown",
   "id": "100976e2-43fb-4c20-b297-874448cabee8",
   "metadata": {},
   "source": [
    "### Q6. Why is it important to understand the level of measurement when analyzing data? Provide an example to illustrate your answer."
   ]
  },
  {
   "cell_type": "raw",
   "id": "aeb045b5-f8f1-4c08-b24e-29ac11b56596",
   "metadata": {},
   "source": [
    "The level at which you measure a variable determines how you can analyze your data.\n",
    "\n",
    "The different levels limit which descriptive statistics you can use to get an overall summary of your data, and which type of inferential statistics you can perform on your data to support or refute your hypothesis.\n",
    "In many cases, your variables can be measured at different levels, so you have to choose the level of measurement you will use before data collection begins.\n",
    "\n",
    "\n",
    "Example of a variable at 2 levels of measurement:------\n",
    "\n",
    "Ordinal level: You create brackets of income ranges: $0–$19,999, $20,000–$39,999, and $40,000–$59,999. You ask participants to select the bracket that represents their annual income. The brackets are coded with numbers from 1–3.\n",
    "\n",
    "Ratio level: You collect data on the exact annual incomes of your participants.\n",
    "\n",
    "At a ratio level, you can see that the difference between A and B’s incomes is far greater than the difference between B and C’s incomes.\n",
    "\n",
    "At an ordinal level, however, you only know the income bracket for each participant, not their exact income. Since you cannot say exactly how much each income differs from the others in your data set, you can only order the income levels and group the participants."
   ]
  },
  {
   "cell_type": "markdown",
   "id": "2ad5260b-24be-46c2-95f1-766ceadad496",
   "metadata": {},
   "source": [
    "### Q7. How nominal data type is different from ordinal data type."
   ]
  },
  {
   "cell_type": "raw",
   "id": "832f5f2f-9573-4244-80e3-9175efff2fa4",
   "metadata": {},
   "source": [
    "-> Nominal data is a group of non-parametric variables, whereas Ordinal data is a group of non-parametric ordered variables.\n",
    "-> Ordinal data is analyzed by mode, median, quartiles, and percentile, whereas nominal data is analyzed by grouping variables into categories and \n",
    "    calculating the distribution mode.\n",
    "-> Nominal data are categorical, whereas Ordinal data are both categorical and quantitative.\n",
    "-> Both nominal and ordinal data can be analyzed using percentage and mode."
   ]
  },
  {
   "cell_type": "markdown",
   "id": "a5fe06b7-ff0d-4c46-85cc-4904207e0458",
   "metadata": {},
   "source": [
    "### Q8. Which type of plot can be used to display data in terms of range?"
   ]
  },
  {
   "cell_type": "raw",
   "id": "32cd0d6a-733f-474c-b7b2-a4a43a27be2b",
   "metadata": {},
   "source": [
    "Histogram. \n",
    "\n",
    "\n",
    "If the groups depicted in a bar chart are actually continuous numeric ranges, we can push the bars together to generate a histogram. Bar lengths in histograms typically correspond to counts of data points, and their patterns demonstrate the distribution of variables in your data."
   ]
  },
  {
   "cell_type": "markdown",
   "id": "5d5b4548-05f7-496d-b6f0-e82532beeda4",
   "metadata": {},
   "source": [
    "### Q9. Describe the difference between descriptive and inferential statistics. Give an example of each type of statistics and explain how they are used."
   ]
  },
  {
   "cell_type": "raw",
   "id": "20047323-7510-489a-af42-70a034f1fc59",
   "metadata": {},
   "source": [
    "1. Descriptive Statistics: \n",
    "\n",
    "    -> Descriptive statistics is a term given to the analysis of data that helps to describe, show and summarize data in a meaningful way. \n",
    "    -> It is a simple way to describe our data. Descriptive statistics is very important to present our raw data ineffective/meaningful way using \n",
    "       numerical calculations or graphs or tables. \n",
    "    -> This type of statistics is applied to already known data. \n",
    "    \n",
    "    -> It gives information about raw data which describes the data in some manner.\n",
    "    -> It helps in organizing, analyzing, and to present data in a meaningful manner.\n",
    "    -> It is used to describe a situation.\n",
    "    -> It explains already known data and is limited to a sample or population having a small size.\n",
    "    -> It can be achieved with the help of charts, graphs, tables, etc.\n",
    "    \n",
    "2. Inferential Statistics: \n",
    "\n",
    "    -> In inferential statistics, predictions are made by taking any group of data in which you are interested. \n",
    "    -> It can be defined as a random sample of data taken from a population to describe and make inferences about the population. \n",
    "    -> Any group of data that includes all the data you are interested in is known as population. \n",
    "    -> It basically allows you to make predictions by taking a small sample instead of working on the whole population.\n",
    "    \n",
    "    -> It makes inferences about the population using data drawn from the population.\n",
    "    -> It allows us to compare data, and make hypotheses and predictions.\n",
    "    -> It is used to explain the chance of occurrence of an event.\n",
    "    -> It attempts to reach the conclusion about the population.\n",
    "    -> It can be achieved by probability."
   ]
  }
 ],
 "metadata": {
  "kernelspec": {
   "display_name": "Python 3 (ipykernel)",
   "language": "python",
   "name": "python3"
  },
  "language_info": {
   "codemirror_mode": {
    "name": "ipython",
    "version": 3
   },
   "file_extension": ".py",
   "mimetype": "text/x-python",
   "name": "python",
   "nbconvert_exporter": "python",
   "pygments_lexer": "ipython3",
   "version": "3.10.8"
  }
 },
 "nbformat": 4,
 "nbformat_minor": 5
}
